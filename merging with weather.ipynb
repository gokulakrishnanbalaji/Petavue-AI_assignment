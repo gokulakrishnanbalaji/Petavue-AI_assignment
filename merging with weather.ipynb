{
 "cells": [
  {
   "cell_type": "code",
   "execution_count": 1,
   "metadata": {},
   "outputs": [],
   "source": [
    "import numpy as np\n",
    "import pandas as pd\n",
    "import json\n",
    "import os"
   ]
  },
  {
   "cell_type": "code",
   "execution_count": 2,
   "metadata": {},
   "outputs": [],
   "source": [
    "flight_df = pd.read_csv('merged_flight_data.csv')"
   ]
  },
  {
   "cell_type": "code",
   "execution_count": 3,
   "metadata": {},
   "outputs": [
    {
     "data": {
      "text/html": [
       "<div>\n",
       "<style scoped>\n",
       "    .dataframe tbody tr th:only-of-type {\n",
       "        vertical-align: middle;\n",
       "    }\n",
       "\n",
       "    .dataframe tbody tr th {\n",
       "        vertical-align: top;\n",
       "    }\n",
       "\n",
       "    .dataframe thead th {\n",
       "        text-align: right;\n",
       "    }\n",
       "</style>\n",
       "<table border=\"1\" class=\"dataframe\">\n",
       "  <thead>\n",
       "    <tr style=\"text-align: right;\">\n",
       "      <th></th>\n",
       "      <th>Year</th>\n",
       "      <th>Quarter</th>\n",
       "      <th>Month</th>\n",
       "      <th>DayofMonth</th>\n",
       "      <th>FlightDate</th>\n",
       "      <th>Origin</th>\n",
       "      <th>Dest</th>\n",
       "      <th>CRSDepTime</th>\n",
       "      <th>DepTime</th>\n",
       "      <th>DepDelayMinutes</th>\n",
       "      <th>DepDel15</th>\n",
       "      <th>CRSArrTime</th>\n",
       "      <th>ArrTime</th>\n",
       "      <th>ArrDelayMinutes</th>\n",
       "      <th>ArrDel15</th>\n",
       "    </tr>\n",
       "  </thead>\n",
       "  <tbody>\n",
       "    <tr>\n",
       "      <th>11292274</th>\n",
       "      <td>2017</td>\n",
       "      <td>3</td>\n",
       "      <td>9</td>\n",
       "      <td>25</td>\n",
       "      <td>2017-09-25</td>\n",
       "      <td>ORD</td>\n",
       "      <td>BOS</td>\n",
       "      <td>1018</td>\n",
       "      <td>1332.0</td>\n",
       "      <td>194.0</td>\n",
       "      <td>1.0</td>\n",
       "      <td>1335</td>\n",
       "      <td>1647.0</td>\n",
       "      <td>192.0</td>\n",
       "      <td>1.0</td>\n",
       "    </tr>\n",
       "    <tr>\n",
       "      <th>11292275</th>\n",
       "      <td>2017</td>\n",
       "      <td>3</td>\n",
       "      <td>9</td>\n",
       "      <td>25</td>\n",
       "      <td>2017-09-25</td>\n",
       "      <td>JFK</td>\n",
       "      <td>LGB</td>\n",
       "      <td>1828</td>\n",
       "      <td>1822.0</td>\n",
       "      <td>0.0</td>\n",
       "      <td>0.0</td>\n",
       "      <td>2135</td>\n",
       "      <td>2135.0</td>\n",
       "      <td>0.0</td>\n",
       "      <td>0.0</td>\n",
       "    </tr>\n",
       "    <tr>\n",
       "      <th>11292276</th>\n",
       "      <td>2017</td>\n",
       "      <td>3</td>\n",
       "      <td>9</td>\n",
       "      <td>25</td>\n",
       "      <td>2017-09-25</td>\n",
       "      <td>JAX</td>\n",
       "      <td>FLL</td>\n",
       "      <td>630</td>\n",
       "      <td>623.0</td>\n",
       "      <td>0.0</td>\n",
       "      <td>0.0</td>\n",
       "      <td>743</td>\n",
       "      <td>732.0</td>\n",
       "      <td>0.0</td>\n",
       "      <td>0.0</td>\n",
       "    </tr>\n",
       "    <tr>\n",
       "      <th>11292277</th>\n",
       "      <td>2017</td>\n",
       "      <td>3</td>\n",
       "      <td>9</td>\n",
       "      <td>25</td>\n",
       "      <td>2017-09-25</td>\n",
       "      <td>FLL</td>\n",
       "      <td>JAX</td>\n",
       "      <td>700</td>\n",
       "      <td>654.0</td>\n",
       "      <td>0.0</td>\n",
       "      <td>0.0</td>\n",
       "      <td>812</td>\n",
       "      <td>802.0</td>\n",
       "      <td>0.0</td>\n",
       "      <td>0.0</td>\n",
       "    </tr>\n",
       "    <tr>\n",
       "      <th>11292278</th>\n",
       "      <td>2017</td>\n",
       "      <td>3</td>\n",
       "      <td>9</td>\n",
       "      <td>25</td>\n",
       "      <td>2017-09-25</td>\n",
       "      <td>PBI</td>\n",
       "      <td>BOS</td>\n",
       "      <td>1001</td>\n",
       "      <td>952.0</td>\n",
       "      <td>0.0</td>\n",
       "      <td>0.0</td>\n",
       "      <td>1301</td>\n",
       "      <td>1247.0</td>\n",
       "      <td>0.0</td>\n",
       "      <td>0.0</td>\n",
       "    </tr>\n",
       "  </tbody>\n",
       "</table>\n",
       "</div>"
      ],
      "text/plain": [
       "          Year  Quarter  Month  DayofMonth  FlightDate Origin Dest  \\\n",
       "11292274  2017        3      9          25  2017-09-25    ORD  BOS   \n",
       "11292275  2017        3      9          25  2017-09-25    JFK  LGB   \n",
       "11292276  2017        3      9          25  2017-09-25    JAX  FLL   \n",
       "11292277  2017        3      9          25  2017-09-25    FLL  JAX   \n",
       "11292278  2017        3      9          25  2017-09-25    PBI  BOS   \n",
       "\n",
       "          CRSDepTime  DepTime  DepDelayMinutes  DepDel15  CRSArrTime  ArrTime  \\\n",
       "11292274        1018   1332.0            194.0       1.0        1335   1647.0   \n",
       "11292275        1828   1822.0              0.0       0.0        2135   2135.0   \n",
       "11292276         630    623.0              0.0       0.0         743    732.0   \n",
       "11292277         700    654.0              0.0       0.0         812    802.0   \n",
       "11292278        1001    952.0              0.0       0.0        1301   1247.0   \n",
       "\n",
       "          ArrDelayMinutes  ArrDel15  \n",
       "11292274            192.0       1.0  \n",
       "11292275              0.0       0.0  \n",
       "11292276              0.0       0.0  \n",
       "11292277              0.0       0.0  \n",
       "11292278              0.0       0.0  "
      ]
     },
     "execution_count": 3,
     "metadata": {},
     "output_type": "execute_result"
    }
   ],
   "source": [
    "flight_df.tail()"
   ]
  },
  {
   "cell_type": "code",
   "execution_count": 4,
   "metadata": {},
   "outputs": [],
   "source": [
    "weather_dir = \"weather\"\n",
    "\n",
    "columns_from_weather = ['windspeedKmph','winddirDegree','weatherCode','precipMM','visibility','pressure','cloudcover','DewPointF','WindGustKmph','tempF','WindChillF','humidity']\n"
   ]
  },
  {
   "cell_type": "code",
   "execution_count": 5,
   "metadata": {},
   "outputs": [],
   "source": [
    "def get_json_filename(year, month):\n",
    "    return f\"{year}-{month}.json\""
   ]
  },
  {
   "cell_type": "code",
   "execution_count": 6,
   "metadata": {},
   "outputs": [],
   "source": [
    "def format_departure_time(departure_time):\n",
    "    if pd.isna(departure_time):\n",
    "        return \"0000\"  \n",
    "    else:\n",
    "        return f\"{int(departure_time // 100):02d}{int(departure_time % 100):02d}\"\n"
   ]
  },
  {
   "cell_type": "code",
   "execution_count": 9,
   "metadata": {},
   "outputs": [],
   "source": [
    "flight_data_with_weather = []\n",
    "weather_info_lists = {col: [] for col in columns_from_weather}"
   ]
  },
  {
   "cell_type": "code",
   "execution_count": 10,
   "metadata": {},
   "outputs": [],
   "source": [
    "city_list=['ATL' ,'CLT', 'DEN', 'DFW', 'EWR', 'IAH', 'JFK', 'LAS', 'LAX', 'MCO','MIA', 'ORD' ,'PHX', 'SEA', 'SFO']"
   ]
  },
  {
   "cell_type": "code",
   "execution_count": 11,
   "metadata": {},
   "outputs": [
    {
     "ename": "KeyboardInterrupt",
     "evalue": "",
     "output_type": "error",
     "traceback": [
      "\u001b[1;31m---------------------------------------------------------------------------\u001b[0m",
      "\u001b[1;31mKeyboardInterrupt\u001b[0m                         Traceback (most recent call last)",
      "Cell \u001b[1;32mIn[11], line 20\u001b[0m\n\u001b[0;32m     17\u001b[0m json_file \u001b[38;5;241m=\u001b[39m os\u001b[38;5;241m.\u001b[39mpath\u001b[38;5;241m.\u001b[39mjoin(weather_dir, city_name, get_json_filename(year, month))\n\u001b[0;32m     19\u001b[0m \u001b[38;5;28;01mif\u001b[39;00m os\u001b[38;5;241m.\u001b[39mpath\u001b[38;5;241m.\u001b[39mexists(json_file):\n\u001b[1;32m---> 20\u001b[0m     \u001b[38;5;28;01mwith\u001b[39;00m \u001b[38;5;28mopen\u001b[39m(json_file, \u001b[38;5;124m'\u001b[39m\u001b[38;5;124mr\u001b[39m\u001b[38;5;124m'\u001b[39m) \u001b[38;5;28;01mas\u001b[39;00m f:\n\u001b[0;32m     21\u001b[0m         data \u001b[38;5;241m=\u001b[39m json\u001b[38;5;241m.\u001b[39mload(f)\n\u001b[0;32m     22\u001b[0m         hourly_data \u001b[38;5;241m=\u001b[39m data[\u001b[38;5;124m'\u001b[39m\u001b[38;5;124mdata\u001b[39m\u001b[38;5;124m'\u001b[39m][\u001b[38;5;124m'\u001b[39m\u001b[38;5;124mweather\u001b[39m\u001b[38;5;124m'\u001b[39m][day\u001b[38;5;241m-\u001b[39m\u001b[38;5;241m1\u001b[39m][\u001b[38;5;124m'\u001b[39m\u001b[38;5;124mhourly\u001b[39m\u001b[38;5;124m'\u001b[39m]\n",
      "\u001b[1;31mKeyboardInterrupt\u001b[0m: "
     ]
    }
   ],
   "source": [
    "for index, row in flight_df.iterrows():\n",
    "    print(index)\n",
    "    \n",
    "    city_name = row['Origin']\n",
    "    year = row['Year']\n",
    "    month = row['Month']\n",
    "    day = row['DayofMonth']\n",
    "    departure_time = row['DepTime']\n",
    "    dest_city = row['Dest']\n",
    "\n",
    "    if city_name not in city_list or dest_city not in city_list:\n",
    "        for col in columns_from_weather:\n",
    "            weather_info_lists[col].append(np.nan)\n",
    "        continue\n",
    "\n",
    "    formatted_departure_time = format_departure_time(departure_time)\n",
    "\n",
    " \n",
    "    json_file = os.path.join(weather_dir, city_name, get_json_filename(year, month))\n",
    "\n",
    "    if os.path.exists(json_file):\n",
    "        with open(json_file, 'r') as f:\n",
    "            data = json.load(f)\n",
    "            hourly_data = data['data']['weather'][day-1]['hourly']\n",
    "            closest_hour = min(hourly_data, key=lambda x: abs(int(x['time'][0:2]) - int(formatted_departure_time[:2])))\n",
    "            weather_info = {key: closest_hour[key] for key in columns_from_weather}\n",
    "            for col, value in weather_info.items():\n",
    "                weather_info_lists[col].append(value)\n",
    "\n"
   ]
  },
  {
   "cell_type": "code",
   "execution_count": null,
   "metadata": {},
   "outputs": [],
   "source": [
    "for col in weather_info_lists:\n",
    "    flight_df[col] = weather_info_lists[col]"
   ]
  }
 ],
 "metadata": {
  "kernelspec": {
   "display_name": "Python 3 (ipykernel)",
   "language": "python",
   "name": "python3"
  },
  "language_info": {
   "codemirror_mode": {
    "name": "ipython",
    "version": 3
   },
   "file_extension": ".py",
   "mimetype": "text/x-python",
   "name": "python",
   "nbconvert_exporter": "python",
   "pygments_lexer": "ipython3",
   "version": "3.11.7"
  }
 },
 "nbformat": 4,
 "nbformat_minor": 4
}
