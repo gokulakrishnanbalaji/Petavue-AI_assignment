{
 "cells": [
  {
   "cell_type": "code",
   "execution_count": 1,
   "metadata": {},
   "outputs": [],
   "source": [
    "import numpy as np\n",
    "import pandas as pd\n",
    "import json\n",
    "import os"
   ]
  },
  {
   "cell_type": "code",
   "execution_count": 2,
   "metadata": {},
   "outputs": [],
   "source": [
    "flight_dir = \"Flight Data\"\n",
    "\n",
    "\n",
    "columns_to_keep = ['FlightDate', 'Quarter', 'Year', 'Month', 'DayofMonth', 'DepTime', 'DepDel15', 'CRSDepTime', \n",
    "                   'DepDelayMinutes', 'Origin', 'Dest', 'ArrTime', 'CRSArrTime', 'ArrDel15', 'ArrDelayMinutes']\n",
    "\n",
    "\n",
    "flight_dfs = []\n",
    "\n"
   ]
  },
  {
   "cell_type": "code",
   "execution_count": 3,
   "metadata": {},
   "outputs": [],
   "source": [
    "for year_folder in [\"2016\", \"2017\"]:\n",
    "    year_path = os.path.join(flight_dir, year_folder)\n",
    "    \n",
    "    \n",
    "    for month_folder in os.listdir(year_path):\n",
    "        month_path = os.path.join(year_path, month_folder)\n",
    "        \n",
    "       \n",
    "        for file in os.listdir(month_path):\n",
    "            if file.endswith(\".csv\"):\n",
    "                file_path = os.path.join(month_path, file)\n",
    "        \n",
    "                df = pd.read_csv(file_path, usecols=columns_to_keep)\n",
    "                \n",
    "                flight_dfs.append(df)\n"
   ]
  },
  {
   "cell_type": "code",
   "execution_count": 4,
   "metadata": {},
   "outputs": [],
   "source": [
    "\n",
    "flight_df = pd.concat(flight_dfs, ignore_index=True)\n",
    "\n",
    "flight_df.to_csv(\"merged_flight_data.csv\", index=False)"
   ]
  },
  {
   "cell_type": "code",
   "execution_count": 5,
   "metadata": {},
   "outputs": [
    {
     "data": {
      "text/html": [
       "<div>\n",
       "<style scoped>\n",
       "    .dataframe tbody tr th:only-of-type {\n",
       "        vertical-align: middle;\n",
       "    }\n",
       "\n",
       "    .dataframe tbody tr th {\n",
       "        vertical-align: top;\n",
       "    }\n",
       "\n",
       "    .dataframe thead th {\n",
       "        text-align: right;\n",
       "    }\n",
       "</style>\n",
       "<table border=\"1\" class=\"dataframe\">\n",
       "  <thead>\n",
       "    <tr style=\"text-align: right;\">\n",
       "      <th></th>\n",
       "      <th>Year</th>\n",
       "      <th>Quarter</th>\n",
       "      <th>Month</th>\n",
       "      <th>DayofMonth</th>\n",
       "      <th>FlightDate</th>\n",
       "      <th>Origin</th>\n",
       "      <th>Dest</th>\n",
       "      <th>CRSDepTime</th>\n",
       "      <th>DepTime</th>\n",
       "      <th>DepDelayMinutes</th>\n",
       "      <th>DepDel15</th>\n",
       "      <th>CRSArrTime</th>\n",
       "      <th>ArrTime</th>\n",
       "      <th>ArrDelayMinutes</th>\n",
       "      <th>ArrDel15</th>\n",
       "    </tr>\n",
       "  </thead>\n",
       "  <tbody>\n",
       "    <tr>\n",
       "      <th>0</th>\n",
       "      <td>2016</td>\n",
       "      <td>1</td>\n",
       "      <td>1</td>\n",
       "      <td>6</td>\n",
       "      <td>2016-01-06</td>\n",
       "      <td>DFW</td>\n",
       "      <td>DTW</td>\n",
       "      <td>1100</td>\n",
       "      <td>1057.0</td>\n",
       "      <td>0.0</td>\n",
       "      <td>0.0</td>\n",
       "      <td>1438</td>\n",
       "      <td>1432.0</td>\n",
       "      <td>0.0</td>\n",
       "      <td>0.0</td>\n",
       "    </tr>\n",
       "    <tr>\n",
       "      <th>1</th>\n",
       "      <td>2016</td>\n",
       "      <td>1</td>\n",
       "      <td>1</td>\n",
       "      <td>7</td>\n",
       "      <td>2016-01-07</td>\n",
       "      <td>DFW</td>\n",
       "      <td>DTW</td>\n",
       "      <td>1100</td>\n",
       "      <td>1056.0</td>\n",
       "      <td>0.0</td>\n",
       "      <td>0.0</td>\n",
       "      <td>1438</td>\n",
       "      <td>1426.0</td>\n",
       "      <td>0.0</td>\n",
       "      <td>0.0</td>\n",
       "    </tr>\n",
       "    <tr>\n",
       "      <th>2</th>\n",
       "      <td>2016</td>\n",
       "      <td>1</td>\n",
       "      <td>1</td>\n",
       "      <td>8</td>\n",
       "      <td>2016-01-08</td>\n",
       "      <td>DFW</td>\n",
       "      <td>DTW</td>\n",
       "      <td>1100</td>\n",
       "      <td>1055.0</td>\n",
       "      <td>0.0</td>\n",
       "      <td>0.0</td>\n",
       "      <td>1438</td>\n",
       "      <td>1445.0</td>\n",
       "      <td>7.0</td>\n",
       "      <td>0.0</td>\n",
       "    </tr>\n",
       "    <tr>\n",
       "      <th>3</th>\n",
       "      <td>2016</td>\n",
       "      <td>1</td>\n",
       "      <td>1</td>\n",
       "      <td>9</td>\n",
       "      <td>2016-01-09</td>\n",
       "      <td>DFW</td>\n",
       "      <td>DTW</td>\n",
       "      <td>1100</td>\n",
       "      <td>1102.0</td>\n",
       "      <td>2.0</td>\n",
       "      <td>0.0</td>\n",
       "      <td>1438</td>\n",
       "      <td>1433.0</td>\n",
       "      <td>0.0</td>\n",
       "      <td>0.0</td>\n",
       "    </tr>\n",
       "    <tr>\n",
       "      <th>4</th>\n",
       "      <td>2016</td>\n",
       "      <td>1</td>\n",
       "      <td>1</td>\n",
       "      <td>10</td>\n",
       "      <td>2016-01-10</td>\n",
       "      <td>DFW</td>\n",
       "      <td>DTW</td>\n",
       "      <td>1100</td>\n",
       "      <td>1240.0</td>\n",
       "      <td>100.0</td>\n",
       "      <td>1.0</td>\n",
       "      <td>1438</td>\n",
       "      <td>1631.0</td>\n",
       "      <td>113.0</td>\n",
       "      <td>1.0</td>\n",
       "    </tr>\n",
       "  </tbody>\n",
       "</table>\n",
       "</div>"
      ],
      "text/plain": [
       "   Year  Quarter  Month  DayofMonth  FlightDate Origin Dest  CRSDepTime  \\\n",
       "0  2016        1      1           6  2016-01-06    DFW  DTW        1100   \n",
       "1  2016        1      1           7  2016-01-07    DFW  DTW        1100   \n",
       "2  2016        1      1           8  2016-01-08    DFW  DTW        1100   \n",
       "3  2016        1      1           9  2016-01-09    DFW  DTW        1100   \n",
       "4  2016        1      1          10  2016-01-10    DFW  DTW        1100   \n",
       "\n",
       "   DepTime  DepDelayMinutes  DepDel15  CRSArrTime  ArrTime  ArrDelayMinutes  \\\n",
       "0   1057.0              0.0       0.0        1438   1432.0              0.0   \n",
       "1   1056.0              0.0       0.0        1438   1426.0              0.0   \n",
       "2   1055.0              0.0       0.0        1438   1445.0              7.0   \n",
       "3   1102.0              2.0       0.0        1438   1433.0              0.0   \n",
       "4   1240.0            100.0       1.0        1438   1631.0            113.0   \n",
       "\n",
       "   ArrDel15  \n",
       "0       0.0  \n",
       "1       0.0  \n",
       "2       0.0  \n",
       "3       0.0  \n",
       "4       1.0  "
      ]
     },
     "execution_count": 5,
     "metadata": {},
     "output_type": "execute_result"
    }
   ],
   "source": [
    "flight_df.head()"
   ]
  },
  {
   "cell_type": "code",
   "execution_count": 9,
   "metadata": {},
   "outputs": [
    {
     "data": {
      "text/plain": [
       "(11292279, 15)"
      ]
     },
     "execution_count": 9,
     "metadata": {},
     "output_type": "execute_result"
    }
   ],
   "source": [
    "flight_df.shape"
   ]
  },
  {
   "cell_type": "code",
   "execution_count": null,
   "metadata": {},
   "outputs": [],
   "source": []
  }
 ],
 "metadata": {
  "kernelspec": {
   "display_name": "Python 3 (ipykernel)",
   "language": "python",
   "name": "python3"
  },
  "language_info": {
   "codemirror_mode": {
    "name": "ipython",
    "version": 3
   },
   "file_extension": ".py",
   "mimetype": "text/x-python",
   "name": "python",
   "nbconvert_exporter": "python",
   "pygments_lexer": "ipython3",
   "version": "3.11.7"
  }
 },
 "nbformat": 4,
 "nbformat_minor": 4
}
